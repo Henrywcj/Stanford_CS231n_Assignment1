{
 "cells": [
  {
   "cell_type": "markdown",
   "metadata": {},
   "source": [
    "# Softmax exercise\n",
    "\n",
    "*Complete and hand in this completed worksheet (including its outputs and any supporting code outside of the worksheet) with your assignment submission. For more details see the [assignments page](http://vision.stanford.edu/teaching/cs231n/assignments.html) on the course website.*\n",
    "\n",
    "This exercise is analogous to the SVM exercise. You will:\n",
    "\n",
    "- implement a fully-vectorized **loss function** for the Softmax classifier\n",
    "- implement the fully-vectorized expression for its **analytic gradient**\n",
    "- **check your implementation** with numerical gradient\n",
    "- use a validation set to **tune the learning rate and regularization** strength\n",
    "- **optimize** the loss function with **SGD**\n",
    "- **visualize** the final learned weights\n"
   ]
  },
  {
   "cell_type": "code",
   "execution_count": 1,
   "metadata": {},
   "outputs": [],
   "source": [
    "import random\n",
    "import numpy as np\n",
    "from cs231n.data_utils import load_CIFAR10\n",
    "import matplotlib.pyplot as plt\n",
    "\n",
    "from __future__ import print_function\n",
    "\n",
    "%matplotlib inline\n",
    "plt.rcParams['figure.figsize'] = (10.0, 8.0) # set default size of plots\n",
    "plt.rcParams['image.interpolation'] = 'nearest'\n",
    "plt.rcParams['image.cmap'] = 'gray'\n",
    "\n",
    "# for auto-reloading extenrnal modules\n",
    "# see http://stackoverflow.com/questions/1907993/autoreload-of-modules-in-ipython\n",
    "%load_ext autoreload\n",
    "%autoreload 2"
   ]
  },
  {
   "cell_type": "code",
   "execution_count": 9,
   "metadata": {},
   "outputs": [
    {
     "name": "stdout",
     "output_type": "stream",
     "text": [
      "[[35]\n",
      " [ 3]\n",
      " [ 6]]\n",
      "[[49 49 49]\n",
      " [17 17 17]\n",
      " [20 20 20]]\n",
      "[[32 32 32]\n",
      " [12 12 12]\n",
      " [16 16 16]]\n"
     ]
    },
    {
     "data": {
      "text/plain": [
       "array([[ 4.12310563,  4.12310563,  4.12310563],\n",
       "       [ 2.23606798,  2.23606798,  2.23606798],\n",
       "       [ 2.        ,  2.        ,  2.        ]])"
      ]
     },
     "execution_count": 9,
     "metadata": {},
     "output_type": "execute_result"
    }
   ],
   "source": [
    "a = np.array([[ 5, 1 ,3], \n",
    "              [ 1, 1 ,1], \n",
    "              [ 1, 2 ,1]])\n",
    "b = np.array([[1, 2, 3],\n",
    "             [1, 2, 3],\n",
    "             [1, 2, 3]])\n",
    "print ((a**2).sum(axis=1, keepdims=True))\n",
    "print ((a**2).sum(axis=1, keepdims=True) + (b**2).sum(axis=1))\n",
    "print (2 * a.dot(b.T))\n",
    "np.sqrt((a**2).sum(axis=1, keepdims=True) + (b**2).sum(axis=1) - 2 * a.dot(b.T))"
   ]
  },
  {
   "cell_type": "code",
   "execution_count": 13,
   "metadata": {},
   "outputs": [
    {
     "name": "stdout",
     "output_type": "stream",
     "text": [
      "[16  6  8]\n"
     ]
    },
    {
     "data": {
      "text/plain": [
       "array([10,  9,  8])"
      ]
     },
     "execution_count": 13,
     "metadata": {},
     "output_type": "execute_result"
    }
   ],
   "source": [
    "print (a.dot(b[0]))\n",
    "b[0].dot(a)"
   ]
  },
  {
   "cell_type": "code",
   "execution_count": 10,
   "metadata": {},
   "outputs": [
    {
     "name": "stdout",
     "output_type": "stream",
     "text": [
      "Train data shape:  (49000, 3073)\n",
      "Train labels shape:  (49000,)\n",
      "Validation data shape:  (1000, 3073)\n",
      "Validation labels shape:  (1000,)\n",
      "Test data shape:  (1000, 3073)\n",
      "Test labels shape:  (1000,)\n",
      "dev data shape:  (500, 3073)\n",
      "dev labels shape:  (500,)\n"
     ]
    }
   ],
   "source": [
    "def get_CIFAR10_data(num_training=49000, num_validation=1000, num_test=1000, num_dev=500):\n",
    "    \"\"\"\n",
    "    Load the CIFAR-10 dataset from disk and perform preprocessing to prepare\n",
    "    it for the linear classifier. These are the same steps as we used for the\n",
    "    SVM, but condensed to a single function.  \n",
    "    \"\"\"\n",
    "    # Load the raw CIFAR-10 data\n",
    "    cifar10_dir = 'cs231n/datasets/cifar-10-batches-py'\n",
    "    X_train, y_train, X_test, y_test = load_CIFAR10(cifar10_dir)\n",
    "    \n",
    "    # subsample the data\n",
    "    mask = list(range(num_training, num_training + num_validation))\n",
    "    X_val = X_train[mask]\n",
    "    y_val = y_train[mask]\n",
    "    mask = list(range(num_training))\n",
    "    X_train = X_train[mask]\n",
    "    y_train = y_train[mask]\n",
    "    mask = list(range(num_test))\n",
    "    X_test = X_test[mask]\n",
    "    y_test = y_test[mask]\n",
    "    mask = np.random.choice(num_training, num_dev, replace=False)\n",
    "    X_dev = X_train[mask]\n",
    "    y_dev = y_train[mask]\n",
    "    \n",
    "    # Preprocessing: reshape the image data into rows\n",
    "    X_train = np.reshape(X_train, (X_train.shape[0], -1))\n",
    "    X_val = np.reshape(X_val, (X_val.shape[0], -1))\n",
    "    X_test = np.reshape(X_test, (X_test.shape[0], -1))\n",
    "    X_dev = np.reshape(X_dev, (X_dev.shape[0], -1))\n",
    "    \n",
    "    # Normalize the data: subtract the mean image\n",
    "    mean_image = np.mean(X_train, axis = 0)\n",
    "    X_train -= mean_image\n",
    "    X_val -= mean_image\n",
    "    X_test -= mean_image\n",
    "    X_dev -= mean_image\n",
    "    \n",
    "    # add bias dimension and transform into columns\n",
    "    X_train = np.hstack([X_train, np.ones((X_train.shape[0], 1))])\n",
    "    X_val = np.hstack([X_val, np.ones((X_val.shape[0], 1))])\n",
    "    X_test = np.hstack([X_test, np.ones((X_test.shape[0], 1))])\n",
    "    X_dev = np.hstack([X_dev, np.ones((X_dev.shape[0], 1))])\n",
    "    \n",
    "    return X_train, y_train, X_val, y_val, X_test, y_test, X_dev, y_dev\n",
    "\n",
    "\n",
    "# Invoke the above function to get our data.\n",
    "X_train, y_train, X_val, y_val, X_test, y_test, X_dev, y_dev = get_CIFAR10_data()\n",
    "print('Train data shape: ', X_train.shape)\n",
    "print('Train labels shape: ', y_train.shape)\n",
    "print('Validation data shape: ', X_val.shape)\n",
    "print('Validation labels shape: ', y_val.shape)\n",
    "print('Test data shape: ', X_test.shape)\n",
    "print('Test labels shape: ', y_test.shape)\n",
    "print('dev data shape: ', X_dev.shape)\n",
    "print('dev labels shape: ', y_dev.shape)"
   ]
  },
  {
   "cell_type": "markdown",
   "metadata": {},
   "source": [
    "## Softmax Classifier\n",
    "\n",
    "Your code for this section will all be written inside **cs231n/classifiers/softmax.py**. \n"
   ]
  },
  {
   "cell_type": "code",
   "execution_count": 20,
   "metadata": {},
   "outputs": [
    {
     "name": "stdout",
     "output_type": "stream",
     "text": [
      "loss: 2.373670\n",
      "sanity check: 2.302585\n"
     ]
    }
   ],
   "source": [
    "# First implement the naive softmax loss function with nested loops.\n",
    "# Open the file cs231n/classifiers/softmax.py and implement the\n",
    "# softmax_loss_naive function.\n",
    "\n",
    "from cs231n.classifiers.softmax import softmax_loss_naive\n",
    "import time\n",
    "\n",
    "# Generate a random softmax weight matrix and use it to compute the loss.\n",
    "W = np.random.randn(3073, 10) * 0.0001\n",
    "loss, grad = softmax_loss_naive(W, X_dev, y_dev, 0.0)\n",
    "\n",
    "# As a rough sanity check, our loss should be something close to -log(0.1).\n",
    "print('loss: %f' % loss)\n",
    "print('sanity check: %f' % (-np.log(0.1)))"
   ]
  },
  {
   "cell_type": "markdown",
   "metadata": {},
   "source": [
    "## Inline Question 1:\n",
    "Why do we expect our loss to be close to -log(0.1)? Explain briefly.**\n",
    "\n",
    "**Your answer:** We have 10 classes. Average probability of each class is 10%. Therefore we would expect the cross-entropy loss be around -log(0.1)\n"
   ]
  },
  {
   "cell_type": "code",
   "execution_count": 21,
   "metadata": {},
   "outputs": [
    {
     "name": "stdout",
     "output_type": "stream",
     "text": [
      "numerical: -0.206220 analytic: -0.206220, relative error: 3.015509e-08\n",
      "numerical: 1.388766 analytic: 1.388766, relative error: 2.102882e-08\n",
      "numerical: 1.319231 analytic: 1.319231, relative error: 2.026148e-08\n",
      "numerical: -2.143520 analytic: -2.143520, relative error: 5.152630e-09\n",
      "numerical: 0.156112 analytic: 0.156112, relative error: 8.951263e-08\n",
      "numerical: -4.789356 analytic: -4.789356, relative error: 3.207764e-09\n",
      "numerical: 0.418652 analytic: 0.418652, relative error: 3.528982e-08\n",
      "numerical: -0.678862 analytic: -0.678862, relative error: 8.749659e-09\n",
      "numerical: -2.835349 analytic: -2.835349, relative error: 7.697391e-09\n",
      "numerical: 0.691905 analytic: 0.691905, relative error: 1.109175e-07\n",
      "numerical: -1.099744 analytic: -1.099744, relative error: 3.338917e-08\n",
      "numerical: 0.091031 analytic: 0.091031, relative error: 5.338514e-07\n",
      "numerical: -3.195316 analytic: -3.195316, relative error: 2.977192e-09\n",
      "numerical: -0.319708 analytic: -0.319708, relative error: 7.935299e-08\n",
      "numerical: 2.452777 analytic: 2.452777, relative error: 3.122342e-09\n",
      "numerical: 0.389654 analytic: 0.389654, relative error: 1.270731e-07\n",
      "numerical: 0.159168 analytic: 0.159168, relative error: 8.494980e-08\n",
      "numerical: 2.861393 analytic: 2.861393, relative error: 1.920741e-08\n",
      "numerical: 1.617736 analytic: 1.617736, relative error: 1.614692e-08\n",
      "numerical: 0.312056 analytic: 0.312055, relative error: 1.127105e-07\n"
     ]
    }
   ],
   "source": [
    "# Complete the implementation of softmax_loss_naive and implement a (naive)\n",
    "# version of the gradient that uses nested loops.\n",
    "loss, grad = softmax_loss_naive(W, X_dev, y_dev, 0.0)\n",
    "\n",
    "# As we did for the SVM, use numeric gradient checking as a debugging tool.\n",
    "# The numeric gradient should be close to the analytic gradient.\n",
    "from cs231n.gradient_check import grad_check_sparse\n",
    "f = lambda w: softmax_loss_naive(w, X_dev, y_dev, 0.0)[0]\n",
    "grad_numerical = grad_check_sparse(f, W, grad, 10)\n",
    "\n",
    "# similar to SVM case, do another gradient check with regularization\n",
    "loss, grad = softmax_loss_naive(W, X_dev, y_dev, 5e1)\n",
    "f = lambda w: softmax_loss_naive(w, X_dev, y_dev, 5e1)[0]\n",
    "grad_numerical = grad_check_sparse(f, W, grad, 10)"
   ]
  },
  {
   "cell_type": "code",
   "execution_count": 22,
   "metadata": {},
   "outputs": [
    {
     "name": "stdout",
     "output_type": "stream",
     "text": [
      "naive loss: 2.373670e+00 computed in 0.297210s\n",
      "vectorized loss: 2.373670e+00 computed in 0.013012s\n",
      "Loss difference: 0.000000\n",
      "Gradient difference: 0.000000\n"
     ]
    }
   ],
   "source": [
    "# Now that we have a naive implementation of the softmax loss function and its gradient,\n",
    "# implement a vectorized version in softmax_loss_vectorized.\n",
    "# The two versions should compute the same results, but the vectorized version should be\n",
    "# much faster.\n",
    "tic = time.time()\n",
    "loss_naive, grad_naive = softmax_loss_naive(W, X_dev, y_dev, 0.000005)\n",
    "toc = time.time()\n",
    "print('naive loss: %e computed in %fs' % (loss_naive, toc - tic))\n",
    "\n",
    "from cs231n.classifiers.softmax import softmax_loss_vectorized\n",
    "tic = time.time()\n",
    "loss_vectorized, grad_vectorized = softmax_loss_vectorized(W, X_dev, y_dev, 0.000005)\n",
    "toc = time.time()\n",
    "print('vectorized loss: %e computed in %fs' % (loss_vectorized, toc - tic))\n",
    "\n",
    "# As we did for the SVM, we use the Frobenius norm to compare the two versions\n",
    "# of the gradient.\n",
    "grad_difference = np.linalg.norm(grad_naive - grad_vectorized, ord='fro')\n",
    "print('Loss difference: %f' % np.abs(loss_naive - loss_vectorized))\n",
    "print('Gradient difference: %f' % grad_difference)"
   ]
  },
  {
   "cell_type": "code",
   "execution_count": 27,
   "metadata": {},
   "outputs": [
    {
     "name": "stderr",
     "output_type": "stream",
     "text": [
      "C:\\Users\\LENOVO\\PycharmProjects\\Stanford-CS231n\\assignment1\\cs231n\\classifiers\\softmax.py:84: RuntimeWarning: overflow encountered in exp\n",
      "  ind = np.zeros_like(p)\n",
      "C:\\Users\\LENOVO\\PycharmProjects\\Stanford-CS231n\\assignment1\\cs231n\\classifiers\\softmax.py:85: RuntimeWarning: overflow encountered in exp\n",
      "  ind[np.arange(num_train), y] = 1\n",
      "C:\\Users\\LENOVO\\PycharmProjects\\Stanford-CS231n\\assignment1\\cs231n\\classifiers\\softmax.py:85: RuntimeWarning: invalid value encountered in true_divide\n",
      "  ind[np.arange(num_train), y] = 1\n",
      "C:\\Users\\LENOVO\\PycharmProjects\\Stanford-CS231n\\assignment1\\cs231n\\classifiers\\softmax.py:87: RuntimeWarning: divide by zero encountered in log\n",
      "  \n"
     ]
    },
    {
     "name": "stdout",
     "output_type": "stream",
     "text": [
      "lr 1.000000e+04 reg 1.000000e-07 train accuracy: 0.357143 val accuracy: 0.367000\n",
      "lr 1.000000e+04 reg 2.000000e-07 train accuracy: 0.376082 val accuracy: 0.394000\n",
      "lr 1.000000e+04 reg 3.000000e-07 train accuracy: 0.373143 val accuracy: 0.378000\n",
      "lr 1.000000e+04 reg 5.000000e-05 train accuracy: 0.163510 val accuracy: 0.164000\n",
      "lr 1.000000e+04 reg 7.600000e+01 train accuracy: 0.100265 val accuracy: 0.087000\n",
      "lr 2.000000e+04 reg 1.000000e-07 train accuracy: 0.354082 val accuracy: 0.374000\n",
      "lr 2.000000e+04 reg 2.000000e-07 train accuracy: 0.358816 val accuracy: 0.369000\n",
      "lr 2.000000e+04 reg 3.000000e-07 train accuracy: 0.349980 val accuracy: 0.370000\n",
      "lr 2.000000e+04 reg 5.000000e-05 train accuracy: 0.103551 val accuracy: 0.103000\n",
      "lr 2.000000e+04 reg 7.600000e+01 train accuracy: 0.100265 val accuracy: 0.087000\n",
      "lr 3.000000e+04 reg 1.000000e-07 train accuracy: 0.339816 val accuracy: 0.361000\n",
      "lr 3.000000e+04 reg 2.000000e-07 train accuracy: 0.348673 val accuracy: 0.357000\n",
      "lr 3.000000e+04 reg 3.000000e-07 train accuracy: 0.340531 val accuracy: 0.354000\n",
      "lr 3.000000e+04 reg 5.000000e-05 train accuracy: 0.095918 val accuracy: 0.112000\n",
      "lr 3.000000e+04 reg 7.600000e+01 train accuracy: 0.100265 val accuracy: 0.087000\n",
      "lr 4.000000e+04 reg 1.000000e-07 train accuracy: 0.338959 val accuracy: 0.353000\n",
      "lr 4.000000e+04 reg 2.000000e-07 train accuracy: 0.328204 val accuracy: 0.345000\n",
      "lr 4.000000e+04 reg 3.000000e-07 train accuracy: 0.333837 val accuracy: 0.351000\n",
      "lr 4.000000e+04 reg 5.000000e-05 train accuracy: 0.100265 val accuracy: 0.087000\n",
      "lr 4.000000e+04 reg 7.600000e+01 train accuracy: 0.100265 val accuracy: 0.087000\n",
      "lr 5.000000e+04 reg 1.000000e-07 train accuracy: 0.329245 val accuracy: 0.339000\n",
      "lr 5.000000e+04 reg 2.000000e-07 train accuracy: 0.327694 val accuracy: 0.341000\n",
      "lr 5.000000e+04 reg 3.000000e-07 train accuracy: 0.323755 val accuracy: 0.343000\n",
      "lr 5.000000e+04 reg 5.000000e-05 train accuracy: 0.100265 val accuracy: 0.087000\n",
      "lr 5.000000e+04 reg 7.600000e+01 train accuracy: 0.100265 val accuracy: 0.087000\n",
      "lr 6.000000e+04 reg 1.000000e-07 train accuracy: 0.325082 val accuracy: 0.339000\n",
      "lr 6.000000e+04 reg 2.000000e-07 train accuracy: 0.326755 val accuracy: 0.333000\n",
      "lr 6.000000e+04 reg 3.000000e-07 train accuracy: 0.312592 val accuracy: 0.339000\n",
      "lr 6.000000e+04 reg 5.000000e-05 train accuracy: 0.100265 val accuracy: 0.087000\n",
      "lr 6.000000e+04 reg 7.600000e+01 train accuracy: 0.100265 val accuracy: 0.087000\n",
      "lr 7.000000e+04 reg 1.000000e-07 train accuracy: 0.323939 val accuracy: 0.341000\n",
      "lr 7.000000e+04 reg 2.000000e-07 train accuracy: 0.308163 val accuracy: 0.323000\n",
      "lr 7.000000e+04 reg 3.000000e-07 train accuracy: 0.319796 val accuracy: 0.331000\n",
      "lr 7.000000e+04 reg 5.000000e-05 train accuracy: 0.100265 val accuracy: 0.087000\n",
      "lr 7.000000e+04 reg 7.600000e+01 train accuracy: 0.100265 val accuracy: 0.087000\n",
      "lr 8.000000e+04 reg 1.000000e-07 train accuracy: 0.314041 val accuracy: 0.330000\n",
      "lr 8.000000e+04 reg 2.000000e-07 train accuracy: 0.311061 val accuracy: 0.335000\n",
      "lr 8.000000e+04 reg 3.000000e-07 train accuracy: 0.312796 val accuracy: 0.327000\n",
      "lr 8.000000e+04 reg 5.000000e-05 train accuracy: 0.100265 val accuracy: 0.087000\n",
      "lr 8.000000e+04 reg 7.600000e+01 train accuracy: 0.100265 val accuracy: 0.087000\n",
      "lr 1.000000e+05 reg 1.000000e-07 train accuracy: 0.307429 val accuracy: 0.316000\n",
      "lr 1.000000e+05 reg 2.000000e-07 train accuracy: 0.298980 val accuracy: 0.325000\n",
      "lr 1.000000e+05 reg 3.000000e-07 train accuracy: 0.312837 val accuracy: 0.323000\n",
      "lr 1.000000e+05 reg 5.000000e-05 train accuracy: 0.100265 val accuracy: 0.087000\n",
      "lr 1.000000e+05 reg 7.600000e+01 train accuracy: 0.100265 val accuracy: 0.087000\n",
      "best validation accuracy achieved during cross-validation: 0.394000\n"
     ]
    }
   ],
   "source": [
    "# Use the validation set to tune hyperparameters (regularization strength and\n",
    "# learning rate). You should experiment with different ranges for the learning\n",
    "# rates and regularization strengths; if you are careful you should be able to\n",
    "# get a classification accuracy of over 0.35 on the validation set.\n",
    "from cs231n.classifiers import Softmax\n",
    "results = {}\n",
    "best_val = -1\n",
    "best_softmax = None\n",
    "learning_rates = [1e-7, 2e-7, 3e-7, 83-7, 5e-5]\n",
    "regularization_strengths = [1e4, 2e4, 3e4, 4e4, 6e4, 7e4, 8e4, 5e4, 1e5]\n",
    "\n",
    "################################################################################\n",
    "# TODO:                                                                        #\n",
    "# Use the validation set to set the learning rate and regularization strength. #\n",
    "# This should be identical to the validation that you did for the SVM; save    #\n",
    "# the best trained softmax classifer in best_softmax.                          #\n",
    "################################################################################\n",
    "iters = 2000\n",
    "for lr in learning_rates:\n",
    "    for rs in regularization_strengths:\n",
    "        softmax = Softmax()\n",
    "        softmax.train(X_train, y_train, lr, rs, iters)\n",
    "        \n",
    "        y_predtrain = softmax.predict(X_train)\n",
    "        acc_train = np.mean(y_predtrain == y_train)\n",
    "        y_predval = softmax.predict(X_val)\n",
    "        acc_val = np.mean(y_predval == y_val)\n",
    "        results[(rs, lr)] = (acc_train, acc_val)\n",
    "        \n",
    "        if (acc_val > best_val):\n",
    "            best_val = acc_val\n",
    "            best_softmax = softmax\n",
    "################################################################################\n",
    "#                              END OF YOUR CODE                                #\n",
    "################################################################################\n",
    "    \n",
    "# Print out results.\n",
    "for lr, reg in sorted(results):\n",
    "    train_accuracy, val_accuracy = results[(lr, reg)]\n",
    "    print('lr %e reg %e train accuracy: %f val accuracy: %f' % (\n",
    "                lr, reg, train_accuracy, val_accuracy))\n",
    "    \n",
    "print('best validation accuracy achieved during cross-validation: %f' % best_val)"
   ]
  },
  {
   "cell_type": "code",
   "execution_count": 28,
   "metadata": {},
   "outputs": [
    {
     "name": "stdout",
     "output_type": "stream",
     "text": [
      "softmax on raw pixels final test set accuracy: 0.374000\n"
     ]
    }
   ],
   "source": [
    "# evaluate on test set\n",
    "# Evaluate the best softmax on test set\n",
    "y_test_pred = best_softmax.predict(X_test)\n",
    "test_accuracy = np.mean(y_test == y_test_pred)\n",
    "print('softmax on raw pixels final test set accuracy: %f' % (test_accuracy, ))"
   ]
  },
  {
   "cell_type": "code",
   "execution_count": 29,
   "metadata": {},
   "outputs": [
    {
     "data": {
      "image/png": "[encoded data removed]",
      "text/plain": [
       "<matplotlib.figure.Figure at 0x20900cfb7b8>"
      ]
     },
     "metadata": {},
     "output_type": "display_data"
    }
   ],
   "source": [
    "# Visualize the learned weights for each class\n",
    "w = best_softmax.W[:-1,:] # strip out the bias\n",
    "w = w.reshape(32, 32, 3, 10)\n",
    "\n",
    "w_min, w_max = np.min(w), np.max(w)\n",
    "\n",
    "classes = ['plane', 'car', 'bird', 'cat', 'deer', 'dog', 'frog', 'horse', 'ship', 'truck']\n",
    "for i in range(10):\n",
    "    plt.subplot(2, 5, i + 1)\n",
    "    \n",
    "    # Rescale the weights to be between 0 and 255\n",
    "    wimg = 255.0 * (w[:, :, :, i].squeeze() - w_min) / (w_max - w_min)\n",
    "    plt.imshow(wimg.astype('uint8'))\n",
    "    plt.axis('off')\n",
    "    plt.title(classes[i])"
   ]
  }
 ],
 "metadata": {
  "kernelspec": {
   "display_name": "Python 3",
   "language": "python",
   "name": "python3"
  },
  "language_info": {
   "codemirror_mode": {
    "name": "ipython",
    "version": 3
   },
   "file_extension": ".py",
   "mimetype": "text/x-python",
   "name": "python",
   "nbconvert_exporter": "python",
   "pygments_lexer": "ipython3",
   "version": "3.5.4"
  }
 },
 "nbformat": 4,
 "nbformat_minor": 1
}
